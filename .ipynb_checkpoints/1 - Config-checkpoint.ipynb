{
 "cells": [
  {
   "cell_type": "code",
   "execution_count": 10,
   "id": "f13c8821",
   "metadata": {},
   "outputs": [],
   "source": [
    "import ee\n",
    "import folium\n",
    "import geehydro"
   ]
  },
  {
   "cell_type": "code",
   "execution_count": 11,
   "id": "fff80f15",
   "metadata": {},
   "outputs": [
    {
     "data": {
      "text/html": [
       "<p>To authorize access needed by Earth Engine, open the following\n",
       "        URL in a web browser and follow the instructions:</p>\n",
       "        <p><a href=https://code.earthengine.google.com/client-auth?scopes=https%3A//www.googleapis.com/auth/earthengine%20https%3A//www.googleapis.com/auth/devstorage.full_control&request_id=zRypfdiPp4N5iqZoi3jaII48zx656IJ_fJ11KVpoASU&tc=qEvJjZRUc7qFQ_N3bCQpps9iPF_yCrRpi4CHP62_jwI&cc=cBLw0YtaYuNXNxCCWnvxNAb4gYyNUTUQnNaMdg64Itk>https://code.earthengine.google.com/client-auth?scopes=https%3A//www.googleapis.com/auth/earthengine%20https%3A//www.googleapis.com/auth/devstorage.full_control&request_id=zRypfdiPp4N5iqZoi3jaII48zx656IJ_fJ11KVpoASU&tc=qEvJjZRUc7qFQ_N3bCQpps9iPF_yCrRpi4CHP62_jwI&cc=cBLw0YtaYuNXNxCCWnvxNAb4gYyNUTUQnNaMdg64Itk</a></p>\n",
       "        <p>The authorization workflow will generate a code, which you should paste in the box below.</p>\n",
       "        "
      ],
      "text/plain": [
       "<IPython.core.display.HTML object>"
      ]
     },
     "metadata": {},
     "output_type": "display_data"
    },
    {
     "name": "stdout",
     "output_type": "stream",
     "text": [
      "Enter verification code: 4/1AVHEtk4FLQ3cP4ktWhbhKYAEcKWx3q5dlmnz_90iCLNEH91T9SZ0AwCnAqc\n",
      "\n",
      "Successfully saved authorization token.\n"
     ]
    }
   ],
   "source": [
    "ee.Authenticate()"
   ]
  },
  {
   "cell_type": "code",
   "execution_count": 13,
   "id": "aa64d12e",
   "metadata": {},
   "outputs": [],
   "source": [
    "ee.Initialize()"
   ]
  },
  {
   "cell_type": "markdown",
   "id": "7e5d03e4",
   "metadata": {},
   "source": [
    "### Creating an Interactive Map"
   ]
  },
  {
   "cell_type": "markdown",
   "id": "9346696d",
   "metadata": {},
   "source": [
    "- Creating a folium map with  OpenStreetMap basemap.\n",
    "- Additional basemaps can be added using the Map.setOptions() function.\n",
    "- The optional basemaps can be: ROADMAP, SATELLITE, HYBRID, TERRAIN, or ESRI."
   ]
  },
  {
   "cell_type": "code",
   "execution_count": 14,
   "id": "8d72c07b",
   "metadata": {},
   "outputs": [],
   "source": [
    "Map = folium.Map(location=[14.09, -59.9358], zoom_start=3) #Brazil latitude, longitude\n",
    "Map.setOptions('HYBRID')"
   ]
  },
  {
   "cell_type": "code",
   "execution_count": null,
   "id": "63895dc6",
   "metadata": {},
   "outputs": [],
   "source": []
  }
 ],
 "metadata": {
  "kernelspec": {
   "display_name": "Python 3 (ipykernel)",
   "language": "python",
   "name": "python3"
  },
  "language_info": {
   "codemirror_mode": {
    "name": "ipython",
    "version": 3
   },
   "file_extension": ".py",
   "mimetype": "text/x-python",
   "name": "python",
   "nbconvert_exporter": "python",
   "pygments_lexer": "ipython3",
   "version": "3.9.16"
  }
 },
 "nbformat": 4,
 "nbformat_minor": 5
}
