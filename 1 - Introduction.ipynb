{
 "cells": [
  {
   "cell_type": "code",
   "execution_count": 35,
   "id": "b9b9fb9e",
   "metadata": {},
   "outputs": [],
   "source": [
    "import ee\n",
    "import folium\n",
    "import geehydro"
   ]
  },
  {
   "cell_type": "code",
   "execution_count": 11,
   "id": "26f276bc",
   "metadata": {},
   "outputs": [
    {
     "data": {
      "text/html": [
       "<p>To authorize access needed by Earth Engine, open the following\n",
       "        URL in a web browser and follow the instructions:</p>\n",
       "        <p><a href=https://code.earthengine.google.com/client-auth?scopes=https%3A//www.googleapis.com/auth/earthengine%20https%3A//www.googleapis.com/auth/devstorage.full_control&request_id=zRypfdiPp4N5iqZoi3jaII48zx656IJ_fJ11KVpoASU&tc=qEvJjZRUc7qFQ_N3bCQpps9iPF_yCrRpi4CHP62_jwI&cc=cBLw0YtaYuNXNxCCWnvxNAb4gYyNUTUQnNaMdg64Itk>https://code.earthengine.google.com/client-auth?scopes=https%3A//www.googleapis.com/auth/earthengine%20https%3A//www.googleapis.com/auth/devstorage.full_control&request_id=zRypfdiPp4N5iqZoi3jaII48zx656IJ_fJ11KVpoASU&tc=qEvJjZRUc7qFQ_N3bCQpps9iPF_yCrRpi4CHP62_jwI&cc=cBLw0YtaYuNXNxCCWnvxNAb4gYyNUTUQnNaMdg64Itk</a></p>\n",
       "        <p>The authorization workflow will generate a code, which you should paste in the box below.</p>\n",
       "        "
      ],
      "text/plain": [
       "<IPython.core.display.HTML object>"
      ]
     },
     "metadata": {},
     "output_type": "display_data"
    },
    {
     "name": "stdout",
     "output_type": "stream",
     "text": [
      "Enter verification code: 4/1AVHEtk4FLQ3cP4ktWhbhKYAEcKWx3q5dlmnz_90iCLNEH91T9SZ0AwCnAqc\n",
      "\n",
      "Successfully saved authorization token.\n"
     ]
    }
   ],
   "source": [
    "ee.Authenticate()"
   ]
  },
  {
   "cell_type": "code",
   "execution_count": 13,
   "id": "54a26d3e",
   "metadata": {},
   "outputs": [],
   "source": [
    "ee.Initialize()"
   ]
  },
  {
   "cell_type": "markdown",
   "id": "cb569090",
   "metadata": {},
   "source": [
    "### Creating an Interactive Map"
   ]
  },
  {
   "cell_type": "markdown",
   "id": "594e295c",
   "metadata": {},
   "source": [
    "- Creating a folium map with  OpenStreetMap basemap.\n",
    "- Additional basemaps can be added using the Map.setOptions() function.\n",
    "- The optional basemaps can be: ROADMAP, SATELLITE, HYBRID, TERRAIN, or ESRI."
   ]
  },
  {
   "cell_type": "code",
   "execution_count": 14,
   "id": "c438be18",
   "metadata": {},
   "outputs": [],
   "source": [
    "Map = folium.Map(location=[14.09, -59.9358], zoom_start=3) #Brazil latitude, longitude\n",
    "Map.setOptions('HYBRID')"
   ]
  },
  {
   "cell_type": "markdown",
   "id": "dac248f8",
   "metadata": {},
   "source": [
    "### Calculating NDVI"
   ]
  },
  {
   "cell_type": "markdown",
   "id": "fc6276a9",
   "metadata": {},
   "source": [
    "1. We will load countries data but for this project we will filter it to only include Brazil.\n",
    "2. Then we will load two 5-year Landsat 7 composites for the years 1999-2003 and 2008-2012.\n",
    "3. Then we'll compute the Normalized Difference Vegetation Index (NDVI) for both composites using: a. NDVI formula, b. normalized difference landsat2008 function from earth engine.\n",
    "4. Then we'll compute the multi-band difference image between the two composites\n",
    "5. Finally, we'll adds it as a top layer to the map clipping to the boundaries of Brazil."
   ]
  },
  {
   "cell_type": "code",
   "execution_count": 15,
   "id": "0c454c95",
   "metadata": {},
   "outputs": [],
   "source": [
    "#Load countries data\n",
    "countries = ee.FeatureCollection(\"USDOS/LSIB_SIMPLE/2017\");\n",
    "Brazil = countries.filter(ee.Filter.eq(\"country_na\",\"Brazil\"));\n",
    "\n",
    "# Load two 5-year Landsat 7 composites.\n",
    "landsat1999 = ee.Image('LANDSAT/LE7_TOA_5YEAR/1999_2003')\n",
    "landsat2008 = ee.Image('LANDSAT/LE7_TOA_5YEAR/2008_2012')\n",
    "\n",
    "# Computing for NDVI using the formula\n",
    "ndvi1999 = landsat1999.select('B4').subtract(landsat1999.select('B3')) \\\n",
    "               .divide(landsat1999.select('B4').add(landsat1999.select('B3')))\n",
    "\n",
    "# Compute NDVI via Earth Engine's normalized difference function\n",
    "ndvi2008 = landsat2008.normalizedDifference(['B4', 'B3'])\n",
    "\n",
    "# Computing for the multi-band difference image\n",
    "diff = landsat2008.subtract(landsat1999)\n",
    "\n",
    "# Adding the computed difference on top of our basemap\n",
    "Map.addLayer(diff.clip(Brazil),\n",
    "             {'bands': ['B4', 'B3', 'B2'], 'min': -32, 'max': 32},\n",
    "             'difference')"
   ]
  },
  {
   "cell_type": "markdown",
   "id": "3bed6cef",
   "metadata": {},
   "source": [
    "### Displaying our Output Map"
   ]
  },
  {
   "cell_type": "code",
   "execution_count": 31,
   "id": "be0b7c48",
   "metadata": {},
   "outputs": [
    {
     "data": {
      "text/html": [
       "<div style=\"width:100%;\"><div style=\"position:relative;width:100%;height:0;padding-bottom:60%;\"><span style=\"color:#565656\">Make this Notebook Trusted to load map: File -> Trust Notebook</span><iframe srcdoc=\"&lt;!DOCTYPE html&gt;\n",
       "&lt;html&gt;\n",
       "&lt;head&gt;\n",
       "    \n",
       "    &lt;meta http-equiv=&quot;content-type&quot; content=&quot;text/html; charset=UTF-8&quot; /&gt;\n",
       "    \n",
       "        &lt;script&gt;\n",
       "            L_NO_TOUCH = false;\n",
       "            L_DISABLE_3D = false;\n",
       "        &lt;/script&gt;\n",
       "    \n",
       "    &lt;style&gt;html, body {width: 100%;height: 100%;margin: 0;padding: 0;}&lt;/style&gt;\n",
       "    &lt;style&gt;#map {position:absolute;top:0;bottom:0;right:0;left:0;}&lt;/style&gt;\n",
       "    &lt;script src=&quot;https://cdn.jsdelivr.net/npm/leaflet@1.9.3/dist/leaflet.js&quot;&gt;&lt;/script&gt;\n",
       "    &lt;script src=&quot;https://code.jquery.com/jquery-1.12.4.min.js&quot;&gt;&lt;/script&gt;\n",
       "    &lt;script src=&quot;https://cdn.jsdelivr.net/npm/bootstrap@5.2.2/dist/js/bootstrap.bundle.min.js&quot;&gt;&lt;/script&gt;\n",
       "    &lt;script src=&quot;https://cdnjs.cloudflare.com/ajax/libs/Leaflet.awesome-markers/2.0.2/leaflet.awesome-markers.js&quot;&gt;&lt;/script&gt;\n",
       "    &lt;link rel=&quot;stylesheet&quot; href=&quot;https://cdn.jsdelivr.net/npm/leaflet@1.9.3/dist/leaflet.css&quot;/&gt;\n",
       "    &lt;link rel=&quot;stylesheet&quot; href=&quot;https://cdn.jsdelivr.net/npm/bootstrap@5.2.2/dist/css/bootstrap.min.css&quot;/&gt;\n",
       "    &lt;link rel=&quot;stylesheet&quot; href=&quot;https://netdna.bootstrapcdn.com/bootstrap/3.0.0/css/bootstrap.min.css&quot;/&gt;\n",
       "    &lt;link rel=&quot;stylesheet&quot; href=&quot;https://cdn.jsdelivr.net/npm/@fortawesome/fontawesome-free@6.2.0/css/all.min.css&quot;/&gt;\n",
       "    &lt;link rel=&quot;stylesheet&quot; href=&quot;https://cdnjs.cloudflare.com/ajax/libs/Leaflet.awesome-markers/2.0.2/leaflet.awesome-markers.css&quot;/&gt;\n",
       "    &lt;link rel=&quot;stylesheet&quot; href=&quot;https://cdn.jsdelivr.net/gh/python-visualization/folium/folium/templates/leaflet.awesome.rotate.min.css&quot;/&gt;\n",
       "    \n",
       "            &lt;meta name=&quot;viewport&quot; content=&quot;width=device-width,\n",
       "                initial-scale=1.0, maximum-scale=1.0, user-scalable=no&quot; /&gt;\n",
       "            &lt;style&gt;\n",
       "                #map_c213cd80f421306b5d4531cfd874baae {\n",
       "                    position: relative;\n",
       "                    width: 100.0%;\n",
       "                    height: 100.0%;\n",
       "                    left: 0.0%;\n",
       "                    top: 0.0%;\n",
       "                }\n",
       "                .leaflet-container { font-size: 1rem; }\n",
       "            &lt;/style&gt;\n",
       "        \n",
       "    &lt;script src=&quot;https://cdnjs.cloudflare.com/ajax/libs/leaflet.fullscreen/1.4.2/Control.FullScreen.min.js&quot;&gt;&lt;/script&gt;\n",
       "    &lt;link rel=&quot;stylesheet&quot; href=&quot;https://cdnjs.cloudflare.com/ajax/libs/leaflet.fullscreen/1.4.2/Control.FullScreen.min.css&quot;/&gt;\n",
       "&lt;/head&gt;\n",
       "&lt;body&gt;\n",
       "    \n",
       "    \n",
       "            &lt;div class=&quot;folium-map&quot; id=&quot;map_c213cd80f421306b5d4531cfd874baae&quot; &gt;&lt;/div&gt;\n",
       "        \n",
       "&lt;/body&gt;\n",
       "&lt;script&gt;\n",
       "    \n",
       "    \n",
       "            var map_c213cd80f421306b5d4531cfd874baae = L.map(\n",
       "                &quot;map_c213cd80f421306b5d4531cfd874baae&quot;,\n",
       "                {\n",
       "                    center: [14.09, -59.9358],\n",
       "                    crs: L.CRS.EPSG3857,\n",
       "                    zoom: 3,\n",
       "                    zoomControl: true,\n",
       "                    preferCanvas: false,\n",
       "                }\n",
       "            );\n",
       "\n",
       "            \n",
       "\n",
       "        \n",
       "    \n",
       "            var tile_layer_89b856ea3c0abf499b5fa9d23ddc5814 = L.tileLayer(\n",
       "                &quot;https://{s}.tile.openstreetmap.org/{z}/{x}/{y}.png&quot;,\n",
       "                {&quot;attribution&quot;: &quot;Data by \\u0026copy; \\u003ca target=\\&quot;_blank\\&quot; href=\\&quot;http://openstreetmap.org\\&quot;\\u003eOpenStreetMap\\u003c/a\\u003e, under \\u003ca target=\\&quot;_blank\\&quot; href=\\&quot;http://www.openstreetmap.org/copyright\\&quot;\\u003eODbL\\u003c/a\\u003e.&quot;, &quot;detectRetina&quot;: false, &quot;maxNativeZoom&quot;: 18, &quot;maxZoom&quot;: 18, &quot;minZoom&quot;: 0, &quot;noWrap&quot;: false, &quot;opacity&quot;: 1, &quot;subdomains&quot;: &quot;abc&quot;, &quot;tms&quot;: false}\n",
       "            ).addTo(map_c213cd80f421306b5d4531cfd874baae);\n",
       "        \n",
       "    \n",
       "            var tile_layer_03d97d512d5a66f1d301dbc91958ab45 = L.tileLayer(\n",
       "                &quot;https://mt1.google.com/vt/lyrs=y\\u0026x={x}\\u0026y={y}\\u0026z={z}&quot;,\n",
       "                {&quot;attribution&quot;: &quot;Google&quot;, &quot;detectRetina&quot;: false, &quot;maxNativeZoom&quot;: 18, &quot;maxZoom&quot;: 18, &quot;minZoom&quot;: 0, &quot;noWrap&quot;: false, &quot;opacity&quot;: 1, &quot;subdomains&quot;: &quot;abc&quot;, &quot;tms&quot;: false}\n",
       "            ).addTo(map_c213cd80f421306b5d4531cfd874baae);\n",
       "        \n",
       "    \n",
       "            var tile_layer_5947982a2ab4b3ef15845e9de7920d51 = L.tileLayer(\n",
       "                &quot;https://earthengine.googleapis.com/v1alpha/projects/earthengine-legacy/maps/752acdd9476094e08988bc2942802e75-02c163bd0c873fd41e4efad6bd2a1bec/tiles/{z}/{x}/{y}&quot;,\n",
       "                {&quot;attribution&quot;: &quot;Google Earth Engine&quot;, &quot;detectRetina&quot;: false, &quot;maxNativeZoom&quot;: 18, &quot;maxZoom&quot;: 18, &quot;minZoom&quot;: 0, &quot;noWrap&quot;: false, &quot;opacity&quot;: 1, &quot;subdomains&quot;: &quot;abc&quot;, &quot;tms&quot;: false}\n",
       "            ).addTo(map_c213cd80f421306b5d4531cfd874baae);\n",
       "        \n",
       "    \n",
       "            var layer_control_ccfb1d0ccefe5bdb4176ef1d6d5b9126 = {\n",
       "                base_layers : {\n",
       "                    &quot;openstreetmap&quot; : tile_layer_89b856ea3c0abf499b5fa9d23ddc5814,\n",
       "                },\n",
       "                overlays :  {\n",
       "                    &quot;Google Satellite&quot; : tile_layer_03d97d512d5a66f1d301dbc91958ab45,\n",
       "                    &quot;difference&quot; : tile_layer_5947982a2ab4b3ef15845e9de7920d51,\n",
       "                },\n",
       "            };\n",
       "            L.control.layers(\n",
       "                layer_control_ccfb1d0ccefe5bdb4176ef1d6d5b9126.base_layers,\n",
       "                layer_control_ccfb1d0ccefe5bdb4176ef1d6d5b9126.overlays,\n",
       "                {&quot;autoZIndex&quot;: true, &quot;collapsed&quot;: true, &quot;position&quot;: &quot;topright&quot;}\n",
       "            ).addTo(map_c213cd80f421306b5d4531cfd874baae);\n",
       "        \n",
       "    \n",
       "            L.control.fullscreen(\n",
       "                {&quot;forceSeparateButton&quot;: false, &quot;position&quot;: &quot;topleft&quot;, &quot;title&quot;: &quot;Full Screen&quot;, &quot;titleCancel&quot;: &quot;Exit Full Screen&quot;}\n",
       "            ).addTo(map_c213cd80f421306b5d4531cfd874baae);\n",
       "        \n",
       "    \n",
       "                var lat_lng_popup_fdbc0ddab9d51f262f19dd78a22105dc = L.popup();\n",
       "                function latLngPop(e) {\n",
       "                    lat_lng_popup_fdbc0ddab9d51f262f19dd78a22105dc\n",
       "                        .setLatLng(e.latlng)\n",
       "                        .setContent(&quot;Latitude: &quot; + e.latlng.lat.toFixed(4) +\n",
       "                                    &quot;&lt;br&gt;Longitude: &quot; + e.latlng.lng.toFixed(4))\n",
       "                        .openOn(map_c213cd80f421306b5d4531cfd874baae);\n",
       "                    }\n",
       "                map_c213cd80f421306b5d4531cfd874baae.on(&#x27;click&#x27;, latLngPop);\n",
       "            \n",
       "    \n",
       "            var layer_control_e34800242a72ac133e7e2c0bc7908b5a = {\n",
       "                base_layers : {\n",
       "                    &quot;openstreetmap&quot; : tile_layer_89b856ea3c0abf499b5fa9d23ddc5814,\n",
       "                },\n",
       "                overlays :  {\n",
       "                    &quot;Google Satellite&quot; : tile_layer_03d97d512d5a66f1d301dbc91958ab45,\n",
       "                    &quot;difference&quot; : tile_layer_5947982a2ab4b3ef15845e9de7920d51,\n",
       "                },\n",
       "            };\n",
       "            L.control.layers(\n",
       "                layer_control_e34800242a72ac133e7e2c0bc7908b5a.base_layers,\n",
       "                layer_control_e34800242a72ac133e7e2c0bc7908b5a.overlays,\n",
       "                {&quot;autoZIndex&quot;: true, &quot;collapsed&quot;: true, &quot;position&quot;: &quot;topright&quot;}\n",
       "            ).addTo(map_c213cd80f421306b5d4531cfd874baae);\n",
       "        \n",
       "    \n",
       "            L.control.fullscreen(\n",
       "                {&quot;forceSeparateButton&quot;: false, &quot;position&quot;: &quot;topleft&quot;, &quot;title&quot;: &quot;Full Screen&quot;, &quot;titleCancel&quot;: &quot;Exit Full Screen&quot;}\n",
       "            ).addTo(map_c213cd80f421306b5d4531cfd874baae);\n",
       "        \n",
       "    \n",
       "                var lat_lng_popup_4f06b187d070c4c4e04e0f5a3f40245e = L.popup();\n",
       "                function latLngPop(e) {\n",
       "                    lat_lng_popup_4f06b187d070c4c4e04e0f5a3f40245e\n",
       "                        .setLatLng(e.latlng)\n",
       "                        .setContent(&quot;Latitude: &quot; + e.latlng.lat.toFixed(4) +\n",
       "                                    &quot;&lt;br&gt;Longitude: &quot; + e.latlng.lng.toFixed(4))\n",
       "                        .openOn(map_c213cd80f421306b5d4531cfd874baae);\n",
       "                    }\n",
       "                map_c213cd80f421306b5d4531cfd874baae.on(&#x27;click&#x27;, latLngPop);\n",
       "            \n",
       "    \n",
       "            var layer_control_8fd3e05a8c9ffb91e10358290837e218 = {\n",
       "                base_layers : {\n",
       "                    &quot;openstreetmap&quot; : tile_layer_89b856ea3c0abf499b5fa9d23ddc5814,\n",
       "                },\n",
       "                overlays :  {\n",
       "                    &quot;Google Satellite&quot; : tile_layer_03d97d512d5a66f1d301dbc91958ab45,\n",
       "                    &quot;difference&quot; : tile_layer_5947982a2ab4b3ef15845e9de7920d51,\n",
       "                },\n",
       "            };\n",
       "            L.control.layers(\n",
       "                layer_control_8fd3e05a8c9ffb91e10358290837e218.base_layers,\n",
       "                layer_control_8fd3e05a8c9ffb91e10358290837e218.overlays,\n",
       "                {&quot;autoZIndex&quot;: true, &quot;collapsed&quot;: true, &quot;position&quot;: &quot;topright&quot;}\n",
       "            ).addTo(map_c213cd80f421306b5d4531cfd874baae);\n",
       "        \n",
       "    \n",
       "            L.control.fullscreen(\n",
       "                {&quot;forceSeparateButton&quot;: false, &quot;position&quot;: &quot;topleft&quot;, &quot;title&quot;: &quot;Full Screen&quot;, &quot;titleCancel&quot;: &quot;Exit Full Screen&quot;}\n",
       "            ).addTo(map_c213cd80f421306b5d4531cfd874baae);\n",
       "        \n",
       "    \n",
       "                var lat_lng_popup_786cbdad8480025488a208cfe31fd598 = L.popup();\n",
       "                function latLngPop(e) {\n",
       "                    lat_lng_popup_786cbdad8480025488a208cfe31fd598\n",
       "                        .setLatLng(e.latlng)\n",
       "                        .setContent(&quot;Latitude: &quot; + e.latlng.lat.toFixed(4) +\n",
       "                                    &quot;&lt;br&gt;Longitude: &quot; + e.latlng.lng.toFixed(4))\n",
       "                        .openOn(map_c213cd80f421306b5d4531cfd874baae);\n",
       "                    }\n",
       "                map_c213cd80f421306b5d4531cfd874baae.on(&#x27;click&#x27;, latLngPop);\n",
       "            \n",
       "&lt;/script&gt;\n",
       "&lt;/html&gt;\" style=\"position:absolute;width:100%;height:100%;left:0;top:0;border:none !important;\" allowfullscreen webkitallowfullscreen mozallowfullscreen></iframe></div></div>"
      ],
      "text/plain": [
       "<folium.folium.Map at 0x23eeef43820>"
      ]
     },
     "execution_count": 31,
     "metadata": {},
     "output_type": "execute_result"
    }
   ],
   "source": [
    "Map.setControlVisibility(layerControl=True, fullscreenControl=True, latLngPopup=True)\n",
    "Map"
   ]
  },
  {
   "cell_type": "markdown",
   "id": "ffdd0a44",
   "metadata": {},
   "source": [
    "### Interpretation"
   ]
  },
  {
   "cell_type": "markdown",
   "id": "22cb9022",
   "metadata": {},
   "source": [
    "The resulting multi-band difference image shows the change in reflectance values between the two Landsat 7 composites for the years 1999-2003 and 2008-2012. The colors in the image represent the magnitude and direction of change in reflectance values for each pixel. Positive values (displayed in red) indicate an increase in reflectance, while negative values (displayed in blue) indicate a decrease. The magnitude of change is represented by the brightness of the color, with brighter colors indicating larger changes.\n",
    "\n",
    "To interpret the image, you would need to have some knowledge of what the different bands represent and how changes in their reflectance values relate to changes on the ground. For example, an increase in NDVI (represented by an increase in the red band) could indicate an increase in vegetation growth, while a decrease could indicate a loss of vegetation. However, without more information about the specific location and context, it is difficult to draw any definitive conclusions from the image alone."
   ]
  }
 ],
 "metadata": {
  "kernelspec": {
   "display_name": "Python 3 (ipykernel)",
   "language": "python",
   "name": "python3"
  },
  "language_info": {
   "codemirror_mode": {
    "name": "ipython",
    "version": 3
   },
   "file_extension": ".py",
   "mimetype": "text/x-python",
   "name": "python",
   "nbconvert_exporter": "python",
   "pygments_lexer": "ipython3",
   "version": "3.9.16"
  }
 },
 "nbformat": 4,
 "nbformat_minor": 5
}
