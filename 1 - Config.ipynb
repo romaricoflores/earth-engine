{
 "cells": [
  {
   "cell_type": "code",
   "execution_count": 10,
   "id": "83508c3a",
   "metadata": {},
   "outputs": [],
   "source": [
    "import ee\n",
    "import folium\n",
    "import geehydro"
   ]
  },
  {
   "cell_type": "code",
   "execution_count": 11,
   "id": "a09e4eaa",
   "metadata": {},
   "outputs": [
    {
     "data": {
      "text/html": [
       "<p>To authorize access needed by Earth Engine, open the following\n",
       "        URL in a web browser and follow the instructions:</p>\n",
       "        <p><a href=https://code.earthengine.google.com/client-auth?scopes=https%3A//www.googleapis.com/auth/earthengine%20https%3A//www.googleapis.com/auth/devstorage.full_control&request_id=zRypfdiPp4N5iqZoi3jaII48zx656IJ_fJ11KVpoASU&tc=qEvJjZRUc7qFQ_N3bCQpps9iPF_yCrRpi4CHP62_jwI&cc=cBLw0YtaYuNXNxCCWnvxNAb4gYyNUTUQnNaMdg64Itk>https://code.earthengine.google.com/client-auth?scopes=https%3A//www.googleapis.com/auth/earthengine%20https%3A//www.googleapis.com/auth/devstorage.full_control&request_id=zRypfdiPp4N5iqZoi3jaII48zx656IJ_fJ11KVpoASU&tc=qEvJjZRUc7qFQ_N3bCQpps9iPF_yCrRpi4CHP62_jwI&cc=cBLw0YtaYuNXNxCCWnvxNAb4gYyNUTUQnNaMdg64Itk</a></p>\n",
       "        <p>The authorization workflow will generate a code, which you should paste in the box below.</p>\n",
       "        "
      ],
      "text/plain": [
       "<IPython.core.display.HTML object>"
      ]
     },
     "metadata": {},
     "output_type": "display_data"
    },
    {
     "name": "stdout",
     "output_type": "stream",
     "text": [
      "Enter verification code: 4/1AVHEtk4FLQ3cP4ktWhbhKYAEcKWx3q5dlmnz_90iCLNEH91T9SZ0AwCnAqc\n",
      "\n",
      "Successfully saved authorization token.\n"
     ]
    }
   ],
   "source": [
    "ee.Authenticate()"
   ]
  },
  {
   "cell_type": "code",
   "execution_count": 13,
   "id": "4f63c1b4",
   "metadata": {},
   "outputs": [],
   "source": [
    "ee.Initialize()"
   ]
  },
  {
   "cell_type": "markdown",
   "id": "6ec82e5d",
   "metadata": {},
   "source": [
    "### Creating an Interactive Map"
   ]
  },
  {
   "cell_type": "markdown",
   "id": "730cfda2",
   "metadata": {},
   "source": [
    "- Creating a folium map with  OpenStreetMap basemap.\n",
    "- Additional basemaps can be added using the Map.setOptions() function.\n",
    "- The optional basemaps can be: ROADMAP, SATELLITE, HYBRID, TERRAIN, or ESRI."
   ]
  },
  {
   "cell_type": "code",
   "execution_count": 14,
   "id": "08987444",
   "metadata": {},
   "outputs": [],
   "source": [
    "Map = folium.Map(location=[14.09, -59.9358], zoom_start=3) #Brazil latitude, longitude\n",
    "Map.setOptions('HYBRID')"
   ]
  },
  {
   "cell_type": "markdown",
   "id": "6bcb6c8c",
   "metadata": {},
   "source": [
    "### Calculating NDVI"
   ]
  },
  {
   "cell_type": "code",
   "execution_count": 15,
   "id": "10c1b128",
   "metadata": {},
   "outputs": [],
   "source": [
    "#Load countries data\n",
    "countries = ee.FeatureCollection(\"USDOS/LSIB_SIMPLE/2017\");\n",
    "Brazil = countries.filter(ee.Filter.eq(\"country_na\",\"Brazil\"));\n",
    "\n",
    "# Load two 5-year Landsat 7 composites.\n",
    "landsat1999 = ee.Image('LANDSAT/LE7_TOA_5YEAR/1999_2003')\n",
    "landsat2008 = ee.Image('LANDSAT/LE7_TOA_5YEAR/2008_2012')\n",
    "\n",
    "# Compute NDVI the hard way.\n",
    "ndvi1999 = landsat1999.select('B4').subtract(landsat1999.select('B3')) \\\n",
    "               .divide(landsat1999.select('B4').add(landsat1999.select('B3')))\n",
    "\n",
    "# Compute NDVI the easy way.\n",
    "ndvi2008 = landsat2008.normalizedDifference(['B4', 'B3'])\n",
    "\n",
    "# Compute the multi-band difference image.\n",
    "diff = landsat2008.subtract(landsat1999)\n",
    "Map.addLayer(diff.clip(Brazil),\n",
    "             {'bands': ['B4', 'B3', 'B2'], 'min': -32, 'max': 32},\n",
    "             'difference')"
   ]
  },
  {
   "cell_type": "code",
   "execution_count": null,
   "id": "f0777d3b",
   "metadata": {},
   "outputs": [],
   "source": []
  }
 ],
 "metadata": {
  "kernelspec": {
   "display_name": "Python 3 (ipykernel)",
   "language": "python",
   "name": "python3"
  },
  "language_info": {
   "codemirror_mode": {
    "name": "ipython",
    "version": 3
   },
   "file_extension": ".py",
   "mimetype": "text/x-python",
   "name": "python",
   "nbconvert_exporter": "python",
   "pygments_lexer": "ipython3",
   "version": "3.9.16"
  }
 },
 "nbformat": 4,
 "nbformat_minor": 5
}
