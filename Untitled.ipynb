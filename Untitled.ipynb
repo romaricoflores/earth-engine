{
 "cells": [
  {
   "cell_type": "code",
   "execution_count": 5,
   "id": "9b0e4983",
   "metadata": {},
   "outputs": [],
   "source": [
    "import ee\n",
    "import folium\n",
    "import geehydro"
   ]
  },
  {
   "cell_type": "code",
   "execution_count": 6,
   "id": "83bfcad7",
   "metadata": {},
   "outputs": [],
   "source": [
    "import ee\n",
    "ee.Initialize()\n",
    "\n",
    "hyperion_collection = ee.ImageCollection('EO1/HYPERION')"
   ]
  },
  {
   "cell_type": "code",
   "execution_count": 7,
   "id": "7297aacd",
   "metadata": {},
   "outputs": [],
   "source": [
    "hyperion_image = ee.Image('EO1/HYPERION/EO1/HYP_04_ORTHO/20020908T172846_20020908T174841')\n",
    "hyperion_ndvi = hyperion_image.normalizedDifference(['EO1H0040022002098110PF'])"
   ]
  },
  {
   "cell_type": "code",
   "execution_count": 14,
   "id": "bd3abf6b",
   "metadata": {},
   "outputs": [],
   "source": [
    "def add_ee_layer(self, ee_image_object, vis_params, name):\n",
    "  map_id_dict = ee.Image(ee_image_object).getMapId(vis_params)\n",
    "  folium.raster_layers.TileLayer(\n",
    "    tiles = map_id_dict['tile_fetcher'].url_format,\n",
    "    attr = 'Map Data &copy; <a href=\"https://earthengine.google.com/\">Google Earth Engine</a>',\n",
    "    name = name,\n",
    "    overlay = True,\n",
    "    control = True\n",
    "  ).add_to(self)"
   ]
  },
  {
   "cell_type": "code",
   "execution_count": 13,
   "id": "89a300cb",
   "metadata": {},
   "outputs": [
    {
     "ename": "AttributeError",
     "evalue": "'Map' object has no attribute 'add_ee_layer'",
     "output_type": "error",
     "traceback": [
      "\u001b[1;31m---------------------------------------------------------------------------\u001b[0m",
      "\u001b[1;31mAttributeError\u001b[0m                            Traceback (most recent call last)",
      "\u001b[1;32m~\\AppData\\Local\\Temp\\ipykernel_6244\\2596439710.py\u001b[0m in \u001b[0;36m<cell line: 12>\u001b[1;34m()\u001b[0m\n\u001b[0;32m     10\u001b[0m \u001b[1;33m\u001b[0m\u001b[0m\n\u001b[0;32m     11\u001b[0m \u001b[1;31m# Add the Hyperion NDVI layer to the map\u001b[0m\u001b[1;33m\u001b[0m\u001b[1;33m\u001b[0m\u001b[0m\n\u001b[1;32m---> 12\u001b[1;33m \u001b[0mmap_object\u001b[0m\u001b[1;33m.\u001b[0m\u001b[0madd_ee_layer\u001b[0m\u001b[1;33m(\u001b[0m\u001b[0mhyperion_ndvi\u001b[0m\u001b[1;33m,\u001b[0m \u001b[1;33m{\u001b[0m\u001b[1;33m}\u001b[0m\u001b[1;33m,\u001b[0m \u001b[1;34m'Hyperion NDVI'\u001b[0m\u001b[1;33m)\u001b[0m\u001b[1;33m\u001b[0m\u001b[1;33m\u001b[0m\u001b[0m\n\u001b[0m\u001b[0;32m     13\u001b[0m \u001b[1;33m\u001b[0m\u001b[0m\n\u001b[0;32m     14\u001b[0m \u001b[1;31m# Add layer control to the map\u001b[0m\u001b[1;33m\u001b[0m\u001b[1;33m\u001b[0m\u001b[0m\n",
      "\u001b[1;31mAttributeError\u001b[0m: 'Map' object has no attribute 'add_ee_layer'"
     ]
    }
   ],
   "source": [
    "import folium\n",
    "from folium import plugins\n",
    "\n",
    "# Define the map center and zoom level\n",
    "map_center = [37.75, -122.25]\n",
    "zoom_level = 10\n",
    "\n",
    "# Create the map object\n",
    "map_object = folium.Map(location=map_center, zoom_start=zoom_level)\n",
    "\n",
    "# Add the Hyperion NDVI layer to the map\n",
    "map_object.add_ee_layer(hyperion_ndvi, {}, 'Hyperion NDVI')\n",
    "\n",
    "# Add layer control to the map\n",
    "map_object.add_child(plugins.LayerControl())\n",
    "\n",
    "# Display the map\n",
    "display(map_object)"
   ]
  }
 ],
 "metadata": {
  "kernelspec": {
   "display_name": "Python 3 (ipykernel)",
   "language": "python",
   "name": "python3"
  },
  "language_info": {
   "codemirror_mode": {
    "name": "ipython",
    "version": 3
   },
   "file_extension": ".py",
   "mimetype": "text/x-python",
   "name": "python",
   "nbconvert_exporter": "python",
   "pygments_lexer": "ipython3",
   "version": "3.9.16"
  }
 },
 "nbformat": 4,
 "nbformat_minor": 5
}
